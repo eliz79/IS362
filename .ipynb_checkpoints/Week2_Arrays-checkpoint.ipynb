{
 "cells": [
  {
   "cell_type": "markdown",
   "metadata": {
    "collapsed": true
   },
   "source": [
    "#H1 Zip and List Comprehensions\n",
    "\n",
    "First I will create an array with randomly generated integers using the random module.\n",
    "I chose 20 numbers between 1-100. Then I'll split the list into 2 halves."
   ]
  },
  {
   "cell_type": "code",
   "execution_count": 4,
   "metadata": {
    "collapsed": false,
    "scrolled": false
   },
   "outputs": [
    {
     "name": "stdout",
     "output_type": "stream",
     "text": [
      "[ 7 60  1 45 97 50 19 46 78 91] [56 46 50 73 99 30 68 28 27 15]\n"
     ]
    }
   ],
   "source": [
    "import numpy as np\n",
    "import random\n",
    "\n",
    "x = np.random.randint(1, 100, 20, dtype=int)\n",
    "first = x[:10]\n",
    "second = x[10:]\n",
    "print (first, second)"
   ]
  },
  {
   "cell_type": "markdown",
   "metadata": {},
   "source": [
    "Now I'll sort the halves and zip them together to make a list of tuples.\n",
    "Then I'll select the first tuple."
   ]
  },
  {
   "cell_type": "code",
   "execution_count": 7,
   "metadata": {
    "collapsed": false
   },
   "outputs": [
    {
     "name": "stdout",
     "output_type": "stream",
     "text": [
      "[(1, 15), (7, 27), (19, 28), (45, 30), (46, 46), (50, 50), (60, 56), (78, 68), (91, 73), (97, 99)]\n"
     ]
    },
    {
     "data": {
      "text/plain": [
       "(1, 15)"
      ]
     },
     "execution_count": 7,
     "metadata": {},
     "output_type": "execute_result"
    }
   ],
   "source": [
    "sortFirst = np.sort(first)\n",
    "sortSecond = np.sort(second)\n",
    "zipIt = list(zip(sortFirst, sortSecond))\n",
    "print(zipIt)\n",
    "zipIt[0]"
   ]
  },
  {
   "cell_type": "markdown",
   "metadata": {},
   "source": [
    "A list comprehension to grab the first element in the zipped list.\n",
    "It will be the same as the sorted first half array, but different type (array vs list)"
   ]
  },
  {
   "cell_type": "code",
   "execution_count": 19,
   "metadata": {
    "collapsed": false
   },
   "outputs": [
    {
     "name": "stdout",
     "output_type": "stream",
     "text": [
      "[ 1  7 19 45 46 50 60 78 91 97] <class 'numpy.ndarray'>\n",
      "[1, 7, 19, 45, 46, 50, 60, 78, 91, 97] <class 'list'>\n"
     ]
    }
   ],
   "source": [
    "listComp = [i[0] for i in zipIt]\n",
    "print(sortFirst, type(sortFirst))\n",
    "print(listComp, type(listComp))"
   ]
  },
  {
   "cell_type": "markdown",
   "metadata": {},
   "source": [
    "A list comphrension to add each tuple together"
   ]
  },
  {
   "cell_type": "code",
   "execution_count": 9,
   "metadata": {
    "collapsed": false
   },
   "outputs": [
    {
     "name": "stdout",
     "output_type": "stream",
     "text": [
      "[16, 34, 47, 75, 92, 100, 116, 146, 164, 196]\n"
     ]
    }
   ],
   "source": [
    "sumOfTup = [sum(x) for x in zipIt]\n",
    "print(sumOfTup)"
   ]
  },
  {
   "cell_type": "markdown",
   "metadata": {},
   "source": [
    "You can also use zip to make a dictionary. I also squared the values in the dict"
   ]
  },
  {
   "cell_type": "code",
   "execution_count": 22,
   "metadata": {
    "collapsed": false
   },
   "outputs": [
    {
     "data": {
      "text/plain": [
       "{1: 225,\n",
       " 7: 729,\n",
       " 19: 784,\n",
       " 45: 900,\n",
       " 46: 2116,\n",
       " 50: 2500,\n",
       " 60: 3136,\n",
       " 78: 4624,\n",
       " 91: 5329,\n",
       " 97: 9801}"
      ]
     },
     "execution_count": 22,
     "metadata": {},
     "output_type": "execute_result"
    }
   ],
   "source": [
    "dictComp = dict(zip(sortFirst,(sortSecond**2)))\n",
    "dictComp"
   ]
  }
 ],
 "metadata": {
  "kernelspec": {
   "display_name": "Python 3",
   "language": "python",
   "name": "python3"
  },
  "language_info": {
   "codemirror_mode": {
    "name": "ipython",
    "version": 3
   },
   "file_extension": ".py",
   "mimetype": "text/x-python",
   "name": "python",
   "nbconvert_exporter": "python",
   "pygments_lexer": "ipython3",
   "version": "3.5.2"
  }
 },
 "nbformat": 4,
 "nbformat_minor": 1
}

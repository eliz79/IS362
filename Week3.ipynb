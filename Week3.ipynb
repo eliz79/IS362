{
 "cells": [
  {
   "cell_type": "markdown",
   "metadata": {
    "collapsed": true
   },
   "source": [
    "##Make a series with cumulative miles ridden"
   ]
  },
  {
   "cell_type": "code",
   "execution_count": 40,
   "metadata": {
    "collapsed": false
   },
   "outputs": [
    {
     "name": "stdout",
     "output_type": "stream",
     "text": [
      "1      55\n",
      "2     175\n",
      "3     252\n",
      "4     301\n",
      "5     364\n",
      "6     402\n",
      "7     468\n",
      "8     520\n",
      "9     605\n",
      "10    712\n",
      "dtype: int64\n",
      "Total miles biked:  712\n"
     ]
    }
   ],
   "source": [
    "import pandas as pd\n",
    "import numpy as np\n",
    "\n",
    "distance = pd.Series([55,120,77,49,63,38,66,52,85,107], index=[1,2,3,4,5,6,7,8,9,10]).cumsum()\n",
    "distance.columns = ['Day', 'Cumulative Distance']\n",
    "\n",
    "print(distance)\n",
    "print('Total miles biked: ',distance.values[-1])"
   ]
  }
 ],
 "metadata": {
  "kernelspec": {
   "display_name": "Python 3",
   "language": "python",
   "name": "python3"
  },
  "language_info": {
   "codemirror_mode": {
    "name": "ipython",
    "version": 3
   },
   "file_extension": ".py",
   "mimetype": "text/x-python",
   "name": "python",
   "nbconvert_exporter": "python",
   "pygments_lexer": "ipython3",
   "version": "3.5.2"
  }
 },
 "nbformat": 4,
 "nbformat_minor": 1
}

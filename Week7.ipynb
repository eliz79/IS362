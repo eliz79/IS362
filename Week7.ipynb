{
 "cells": [
  {
   "cell_type": "markdown",
   "metadata": {},
   "source": [
    "## Instructions \n",
    "1. Load the ratings by user information that you collected into a pandas dataframe.\n",
    "2. Show the average ratings for each user and each movie.\n",
    "3. Create a new pandas dataframe, with normalized ratings for each user. Again, show the average ratings for each user and each movie.\n",
    "4. Provide a text-based conclusion: explain what might be advantages and disadvantages of using normalized ratings instead of the actual ratings.\n",
    "5. [Extra credit] Create another new pandas dataframe, with standardized ratings for each user. Once again, show the average ratings for each user and each movie.\n",
    "\n",
    "### Step 1: load the csv into a dataframe"
   ]
  },
  {
   "cell_type": "code",
   "execution_count": 39,
   "metadata": {
    "collapsed": false,
    "scrolled": true
   },
   "outputs": [
    {
     "data": {
      "text/html": [
       "<div>\n",
       "<table border=\"1\" class=\"dataframe\">\n",
       "  <thead>\n",
       "    <tr style=\"text-align: right;\">\n",
       "      <th></th>\n",
       "      <th>Person</th>\n",
       "      <th>La La Land</th>\n",
       "      <th>The Revenant</th>\n",
       "      <th>Hoosiers</th>\n",
       "      <th>Shawshank Redemption</th>\n",
       "      <th>Nightcrawler</th>\n",
       "      <th>Logan</th>\n",
       "    </tr>\n",
       "  </thead>\n",
       "  <tbody>\n",
       "    <tr>\n",
       "      <th>0</th>\n",
       "      <td>Erwin</td>\n",
       "      <td>NaN</td>\n",
       "      <td>4.0</td>\n",
       "      <td>2</td>\n",
       "      <td>4.0</td>\n",
       "      <td>5.0</td>\n",
       "      <td>NaN</td>\n",
       "    </tr>\n",
       "    <tr>\n",
       "      <th>1</th>\n",
       "      <td>Debbie</td>\n",
       "      <td>4.0</td>\n",
       "      <td>NaN</td>\n",
       "      <td>5</td>\n",
       "      <td>5.0</td>\n",
       "      <td>4.0</td>\n",
       "      <td>NaN</td>\n",
       "    </tr>\n",
       "    <tr>\n",
       "      <th>2</th>\n",
       "      <td>Mike</td>\n",
       "      <td>NaN</td>\n",
       "      <td>4.0</td>\n",
       "      <td>5</td>\n",
       "      <td>5.0</td>\n",
       "      <td>3.0</td>\n",
       "      <td>NaN</td>\n",
       "    </tr>\n",
       "    <tr>\n",
       "      <th>3</th>\n",
       "      <td>Joe</td>\n",
       "      <td>3.0</td>\n",
       "      <td>5.0</td>\n",
       "      <td>4</td>\n",
       "      <td>5.0</td>\n",
       "      <td>NaN</td>\n",
       "      <td>3.0</td>\n",
       "    </tr>\n",
       "    <tr>\n",
       "      <th>4</th>\n",
       "      <td>Chris</td>\n",
       "      <td>NaN</td>\n",
       "      <td>4.0</td>\n",
       "      <td>3</td>\n",
       "      <td>NaN</td>\n",
       "      <td>3.0</td>\n",
       "      <td>5.0</td>\n",
       "    </tr>\n",
       "  </tbody>\n",
       "</table>\n",
       "</div>"
      ],
      "text/plain": [
       "   Person  La La Land  The Revenant  Hoosiers  Shawshank Redemption  \\\n",
       "0   Erwin         NaN           4.0         2                   4.0   \n",
       "1  Debbie         4.0           NaN         5                   5.0   \n",
       "2    Mike         NaN           4.0         5                   5.0   \n",
       "3     Joe         3.0           5.0         4                   5.0   \n",
       "4   Chris         NaN           4.0         3                   NaN   \n",
       "\n",
       "   Nightcrawler  Logan  \n",
       "0           5.0    NaN  \n",
       "1           4.0    NaN  \n",
       "2           3.0    NaN  \n",
       "3           NaN    3.0  \n",
       "4           3.0    5.0  "
      ]
     },
     "execution_count": 39,
     "metadata": {},
     "output_type": "execute_result"
    }
   ],
   "source": [
    "import pandas as pd\n",
    "\n",
    "#df = pd.read_csv('/Users/Maureen/Desktop/GitHub/IS362/Week7_movies.csv')\n",
    "df = pd.read_csv('https://raw.githubusercontent.com/moshun8/IS362/master/Week7_movies.csv')\n",
    "df.head()"
   ]
  },
  {
   "cell_type": "markdown",
   "metadata": {},
   "source": [
    "### Step 2: show average ratings for each user and movie"
   ]
  },
  {
   "cell_type": "code",
   "execution_count": 40,
   "metadata": {
    "collapsed": false
   },
   "outputs": [
    {
     "name": "stdout",
     "output_type": "stream",
     "text": [
      "Person\n",
      "Erwin     3.75\n",
      "Debbie    4.50\n",
      "Mike      4.25\n",
      "Joe       4.00\n",
      "Chris     3.75\n",
      "dtype: float64 \n",
      " La La Land              3.50\n",
      "The Revenant            4.25\n",
      "Hoosiers                3.80\n",
      "Shawshank Redemption    4.75\n",
      "Nightcrawler            3.75\n",
      "Logan                   4.00\n",
      "dtype: float64\n"
     ]
    }
   ],
   "source": [
    "df = df.set_index('Person')\n",
    "useravg = df.mean(axis=1).round(decimals=2)\n",
    "\n",
    "movieavg = df.mean().round(decimals=2)\n",
    "print(useravg,'\\n',movieavg)"
   ]
  },
  {
   "cell_type": "markdown",
   "metadata": {},
   "source": [
    "### Step 3: Create a new pandas dataframe, with normalized ratings for each user. \n",
    "To normalize ratings by user, not movie, the dataframe needs to be transposed"
   ]
  },
  {
   "cell_type": "code",
   "execution_count": 45,
   "metadata": {
    "collapsed": false
   },
   "outputs": [
    {
     "data": {
      "text/html": [
       "<div>\n",
       "<table border=\"1\" class=\"dataframe\">\n",
       "  <thead>\n",
       "    <tr style=\"text-align: right;\">\n",
       "      <th>Person</th>\n",
       "      <th>Erwin</th>\n",
       "      <th>Debbie</th>\n",
       "      <th>Mike</th>\n",
       "      <th>Joe</th>\n",
       "      <th>Chris</th>\n",
       "    </tr>\n",
       "  </thead>\n",
       "  <tbody>\n",
       "    <tr>\n",
       "      <th>La La Land</th>\n",
       "      <td>NaN</td>\n",
       "      <td>0.0</td>\n",
       "      <td>NaN</td>\n",
       "      <td>0.0</td>\n",
       "      <td>NaN</td>\n",
       "    </tr>\n",
       "    <tr>\n",
       "      <th>The Revenant</th>\n",
       "      <td>0.666667</td>\n",
       "      <td>NaN</td>\n",
       "      <td>0.5</td>\n",
       "      <td>1.0</td>\n",
       "      <td>0.5</td>\n",
       "    </tr>\n",
       "    <tr>\n",
       "      <th>Hoosiers</th>\n",
       "      <td>0.000000</td>\n",
       "      <td>1.0</td>\n",
       "      <td>1.0</td>\n",
       "      <td>0.5</td>\n",
       "      <td>0.0</td>\n",
       "    </tr>\n",
       "    <tr>\n",
       "      <th>Shawshank Redemption</th>\n",
       "      <td>0.666667</td>\n",
       "      <td>1.0</td>\n",
       "      <td>1.0</td>\n",
       "      <td>1.0</td>\n",
       "      <td>NaN</td>\n",
       "    </tr>\n",
       "    <tr>\n",
       "      <th>Nightcrawler</th>\n",
       "      <td>1.000000</td>\n",
       "      <td>0.0</td>\n",
       "      <td>0.0</td>\n",
       "      <td>NaN</td>\n",
       "      <td>0.0</td>\n",
       "    </tr>\n",
       "    <tr>\n",
       "      <th>Logan</th>\n",
       "      <td>NaN</td>\n",
       "      <td>NaN</td>\n",
       "      <td>NaN</td>\n",
       "      <td>0.0</td>\n",
       "      <td>1.0</td>\n",
       "    </tr>\n",
       "  </tbody>\n",
       "</table>\n",
       "</div>"
      ],
      "text/plain": [
       "Person                   Erwin  Debbie  Mike  Joe  Chris\n",
       "La La Land                 NaN     0.0   NaN  0.0    NaN\n",
       "The Revenant          0.666667     NaN   0.5  1.0    0.5\n",
       "Hoosiers              0.000000     1.0   1.0  0.5    0.0\n",
       "Shawshank Redemption  0.666667     1.0   1.0  1.0    NaN\n",
       "Nightcrawler          1.000000     0.0   0.0  NaN    0.0\n",
       "Logan                      NaN     NaN   NaN  0.0    1.0"
      ]
     },
     "execution_count": 45,
     "metadata": {},
     "output_type": "execute_result"
    }
   ],
   "source": [
    "df_tp = df.T\n",
    "dfnormal = (df_tp - df_tp.min()) / (df_tp.max() - df_tp.min())\n",
    "dfnormal"
   ]
  },
  {
   "cell_type": "markdown",
   "metadata": {},
   "source": [
    "### Again, show the average ratings for each user and each movie."
   ]
  },
  {
   "cell_type": "code",
   "execution_count": 46,
   "metadata": {
    "collapsed": false
   },
   "outputs": [
    {
     "name": "stdout",
     "output_type": "stream",
     "text": [
      "Person\n",
      "Erwin     0.58333\n",
      "Debbie    0.50000\n",
      "Mike      0.62500\n",
      "Joe       0.50000\n",
      "Chris     0.37500\n",
      "dtype: float64 \n",
      " La La Land              0.00000\n",
      "The Revenant            0.66667\n",
      "Hoosiers                0.50000\n",
      "Shawshank Redemption    0.91667\n",
      "Nightcrawler            0.25000\n",
      "Logan                   0.50000\n",
      "dtype: float64\n"
     ]
    }
   ],
   "source": [
    "movie_norm = dfnormal.mean(axis=1).round(decimals=5)\n",
    "user_norm = dfnormal.mean().round(decimals=5)\n",
    "\n",
    "print(user_norm,'\\n',movie_norm)"
   ]
  },
  {
   "cell_type": "markdown",
   "metadata": {},
   "source": [
    "### If you wanted to normalize user ratings within each movie, you would not transpose the dataframe and just run the formula"
   ]
  },
  {
   "cell_type": "code",
   "execution_count": 48,
   "metadata": {
    "collapsed": false
   },
   "outputs": [
    {
     "data": {
      "text/html": [
       "<div>\n",
       "<table border=\"1\" class=\"dataframe\">\n",
       "  <thead>\n",
       "    <tr style=\"text-align: right;\">\n",
       "      <th></th>\n",
       "      <th>La La Land</th>\n",
       "      <th>The Revenant</th>\n",
       "      <th>Hoosiers</th>\n",
       "      <th>Shawshank Redemption</th>\n",
       "      <th>Nightcrawler</th>\n",
       "      <th>Logan</th>\n",
       "    </tr>\n",
       "    <tr>\n",
       "      <th>Person</th>\n",
       "      <th></th>\n",
       "      <th></th>\n",
       "      <th></th>\n",
       "      <th></th>\n",
       "      <th></th>\n",
       "      <th></th>\n",
       "    </tr>\n",
       "  </thead>\n",
       "  <tbody>\n",
       "    <tr>\n",
       "      <th>Erwin</th>\n",
       "      <td>NaN</td>\n",
       "      <td>0.0</td>\n",
       "      <td>0.000000</td>\n",
       "      <td>0.0</td>\n",
       "      <td>1.0</td>\n",
       "      <td>NaN</td>\n",
       "    </tr>\n",
       "    <tr>\n",
       "      <th>Debbie</th>\n",
       "      <td>1.0</td>\n",
       "      <td>NaN</td>\n",
       "      <td>1.000000</td>\n",
       "      <td>1.0</td>\n",
       "      <td>0.5</td>\n",
       "      <td>NaN</td>\n",
       "    </tr>\n",
       "    <tr>\n",
       "      <th>Mike</th>\n",
       "      <td>NaN</td>\n",
       "      <td>0.0</td>\n",
       "      <td>1.000000</td>\n",
       "      <td>1.0</td>\n",
       "      <td>0.0</td>\n",
       "      <td>NaN</td>\n",
       "    </tr>\n",
       "    <tr>\n",
       "      <th>Joe</th>\n",
       "      <td>0.0</td>\n",
       "      <td>1.0</td>\n",
       "      <td>0.666667</td>\n",
       "      <td>1.0</td>\n",
       "      <td>NaN</td>\n",
       "      <td>0.0</td>\n",
       "    </tr>\n",
       "    <tr>\n",
       "      <th>Chris</th>\n",
       "      <td>NaN</td>\n",
       "      <td>0.0</td>\n",
       "      <td>0.333333</td>\n",
       "      <td>NaN</td>\n",
       "      <td>0.0</td>\n",
       "      <td>1.0</td>\n",
       "    </tr>\n",
       "  </tbody>\n",
       "</table>\n",
       "</div>"
      ],
      "text/plain": [
       "        La La Land  The Revenant  Hoosiers  Shawshank Redemption  \\\n",
       "Person                                                             \n",
       "Erwin          NaN           0.0  0.000000                   0.0   \n",
       "Debbie         1.0           NaN  1.000000                   1.0   \n",
       "Mike           NaN           0.0  1.000000                   1.0   \n",
       "Joe            0.0           1.0  0.666667                   1.0   \n",
       "Chris          NaN           0.0  0.333333                   NaN   \n",
       "\n",
       "        Nightcrawler  Logan  \n",
       "Person                       \n",
       "Erwin            1.0    NaN  \n",
       "Debbie           0.5    NaN  \n",
       "Mike             0.0    NaN  \n",
       "Joe              NaN    0.0  \n",
       "Chris            0.0    1.0  "
      ]
     },
     "execution_count": 48,
     "metadata": {},
     "output_type": "execute_result"
    }
   ],
   "source": [
    "df_byMovie = (df - df.min()) / (df.max() - df.min())\n",
    "df_byMovie"
   ]
  },
  {
   "cell_type": "markdown",
   "metadata": {},
   "source": [
    "### The average ratings for users/movies when calculated within each movie"
   ]
  },
  {
   "cell_type": "code",
   "execution_count": 54,
   "metadata": {
    "collapsed": false
   },
   "outputs": [
    {
     "name": "stdout",
     "output_type": "stream",
     "text": [
      "Person\n",
      "Erwin     0.25000\n",
      "Debbie    0.87500\n",
      "Mike      0.50000\n",
      "Joe       0.53333\n",
      "Chris     0.33333\n",
      "dtype: float64 \n",
      " La La Land              0.500\n",
      "The Revenant            0.250\n",
      "Hoosiers                0.600\n",
      "Shawshank Redemption    0.750\n",
      "Nightcrawler            0.375\n",
      "Logan                   0.500\n",
      "dtype: float64\n"
     ]
    }
   ],
   "source": [
    "useravg_byMovie = df_byMovie.mean(axis=1).round(decimals=5)\n",
    "\n",
    "movieavg_byMovie = df_byMovie.mean().round(decimals=5)\n",
    "print(useravg_byMovie,'\\n',movieavg_byMovie)"
   ]
  },
  {
   "cell_type": "markdown",
   "metadata": {
    "collapsed": true
   },
   "source": [
    "### 4. Provide a text-based conclusion: explain what might be advantages and disadvantages of using normalized ratings instead of the actual ratings.\n",
    "\n",
    "An advantage of normalizing ratings by user is that if a person always gives very high or low ratings for everything, then their scores won't mean much. Normalizing them would give more weight to smaller scoring differences. A disadvantage of normalizing can be seen with the rating for movies like La La Land. When ratings are normalized for each user then the overall ratings for movies may not mean much (like La La Land's normalized rating = 0, even though the raw scores were 3 and 4)."
   ]
  },
  {
   "cell_type": "markdown",
   "metadata": {
    "collapsed": true
   },
   "source": [
    "### 5. [Extra credit] Create another new pandas dataframe, with standardized ratings for each user. Once again, show the average ratings for each user and each movie."
   ]
  },
  {
   "cell_type": "code",
   "execution_count": 51,
   "metadata": {
    "collapsed": false
   },
   "outputs": [
    {
     "data": {
      "text/html": [
       "<div>\n",
       "<table border=\"1\" class=\"dataframe\">\n",
       "  <thead>\n",
       "    <tr style=\"text-align: right;\">\n",
       "      <th>Person</th>\n",
       "      <th>Erwin</th>\n",
       "      <th>Debbie</th>\n",
       "      <th>Mike</th>\n",
       "      <th>Joe</th>\n",
       "      <th>Chris</th>\n",
       "    </tr>\n",
       "  </thead>\n",
       "  <tbody>\n",
       "    <tr>\n",
       "      <th>La La Land</th>\n",
       "      <td>NaN</td>\n",
       "      <td>-0.866025</td>\n",
       "      <td>NaN</td>\n",
       "      <td>-1.0</td>\n",
       "      <td>NaN</td>\n",
       "    </tr>\n",
       "    <tr>\n",
       "      <th>The Revenant</th>\n",
       "      <td>0.198680</td>\n",
       "      <td>NaN</td>\n",
       "      <td>-0.261116</td>\n",
       "      <td>1.0</td>\n",
       "      <td>0.261116</td>\n",
       "    </tr>\n",
       "    <tr>\n",
       "      <th>Hoosiers</th>\n",
       "      <td>-1.390759</td>\n",
       "      <td>0.866025</td>\n",
       "      <td>0.783349</td>\n",
       "      <td>0.0</td>\n",
       "      <td>-0.783349</td>\n",
       "    </tr>\n",
       "    <tr>\n",
       "      <th>Shawshank Redemption</th>\n",
       "      <td>0.198680</td>\n",
       "      <td>0.866025</td>\n",
       "      <td>0.783349</td>\n",
       "      <td>1.0</td>\n",
       "      <td>NaN</td>\n",
       "    </tr>\n",
       "    <tr>\n",
       "      <th>Nightcrawler</th>\n",
       "      <td>0.993399</td>\n",
       "      <td>-0.866025</td>\n",
       "      <td>-1.305582</td>\n",
       "      <td>NaN</td>\n",
       "      <td>-0.783349</td>\n",
       "    </tr>\n",
       "    <tr>\n",
       "      <th>Logan</th>\n",
       "      <td>NaN</td>\n",
       "      <td>NaN</td>\n",
       "      <td>NaN</td>\n",
       "      <td>-1.0</td>\n",
       "      <td>1.305582</td>\n",
       "    </tr>\n",
       "  </tbody>\n",
       "</table>\n",
       "</div>"
      ],
      "text/plain": [
       "Person                   Erwin    Debbie      Mike  Joe     Chris\n",
       "La La Land                 NaN -0.866025       NaN -1.0       NaN\n",
       "The Revenant          0.198680       NaN -0.261116  1.0  0.261116\n",
       "Hoosiers             -1.390759  0.866025  0.783349  0.0 -0.783349\n",
       "Shawshank Redemption  0.198680  0.866025  0.783349  1.0       NaN\n",
       "Nightcrawler          0.993399 -0.866025 -1.305582  NaN -0.783349\n",
       "Logan                      NaN       NaN       NaN -1.0  1.305582"
      ]
     },
     "execution_count": 51,
     "metadata": {},
     "output_type": "execute_result"
    }
   ],
   "source": [
    "dfstd = (df_tp - df_tp.mean()) / (df_tp.std())\n",
    "dfstd"
   ]
  },
  {
   "cell_type": "code",
   "execution_count": 53,
   "metadata": {
    "collapsed": false
   },
   "outputs": [
    {
     "name": "stdout",
     "output_type": "stream",
     "text": [
      "Person\n",
      "Erwin     0.0\n",
      "Debbie    0.0\n",
      "Mike      0.0\n",
      "Joe       0.0\n",
      "Chris    -0.0\n",
      "dtype: float64 \n",
      " La La Land             -0.93301\n",
      "The Revenant            0.29967\n",
      "Hoosiers               -0.10495\n",
      "Shawshank Redemption    0.71201\n",
      "Nightcrawler           -0.49039\n",
      "Logan                   0.15279\n",
      "dtype: float64\n"
     ]
    }
   ],
   "source": [
    "movieavg_std = dfstd.mean(axis=1).round(decimals=5)\n",
    "\n",
    "useravg_std = dfstd.mean().round(decimals=5)\n",
    "print(useravg_std,'\\n',movieavg_std)"
   ]
  }
 ],
 "metadata": {
  "kernelspec": {
   "display_name": "Python 3",
   "language": "python",
   "name": "python3"
  },
  "language_info": {
   "codemirror_mode": {
    "name": "ipython",
    "version": 3
   },
   "file_extension": ".py",
   "mimetype": "text/x-python",
   "name": "python",
   "nbconvert_exporter": "python",
   "pygments_lexer": "ipython3",
   "version": "3.5.2"
  }
 },
 "nbformat": 4,
 "nbformat_minor": 1
}

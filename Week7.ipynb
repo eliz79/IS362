{
 "cells": [
  {
   "cell_type": "markdown",
   "metadata": {},
   "source": [
    "## Instructions \n",
    "1. Load the ratings by user information that you collected into a pandas dataframe.\n",
    "2. Show the average ratings for each user and each movie.\n",
    "3. Create a new pandas dataframe, with normalized ratings for each user. Again, show the average ratings for each user and each movie.\n",
    "4. Provide a text-based conclusion: explain what might be advantages and disadvantages of using normalized ratings instead of the actual ratings.\n",
    "5. [Extra credit] Create another new pandas dataframe, with standardized ratings for each user. Once again, show the average ratings for each user and each movie.\n",
    "\n",
    "### Step 1: load the csv into a dataframe"
   ]
  },
  {
   "cell_type": "code",
   "execution_count": 181,
   "metadata": {
    "collapsed": false
   },
   "outputs": [
    {
     "data": {
      "text/html": [
       "<div>\n",
       "<table border=\"1\" class=\"dataframe\">\n",
       "  <thead>\n",
       "    <tr style=\"text-align: right;\">\n",
       "      <th></th>\n",
       "      <th>Person</th>\n",
       "      <th>La La Land</th>\n",
       "      <th>The Revenant</th>\n",
       "      <th>Hoosiers</th>\n",
       "      <th>Shawshank Redemption</th>\n",
       "      <th>Nightcrawler</th>\n",
       "    </tr>\n",
       "  </thead>\n",
       "  <tbody>\n",
       "    <tr>\n",
       "      <th>0</th>\n",
       "      <td>Erwin</td>\n",
       "      <td>NaN</td>\n",
       "      <td>4.0</td>\n",
       "      <td>2</td>\n",
       "      <td>4.0</td>\n",
       "      <td>5.0</td>\n",
       "    </tr>\n",
       "    <tr>\n",
       "      <th>1</th>\n",
       "      <td>Debbie</td>\n",
       "      <td>4.0</td>\n",
       "      <td>NaN</td>\n",
       "      <td>5</td>\n",
       "      <td>5.0</td>\n",
       "      <td>NaN</td>\n",
       "    </tr>\n",
       "    <tr>\n",
       "      <th>2</th>\n",
       "      <td>Mike</td>\n",
       "      <td>NaN</td>\n",
       "      <td>4.0</td>\n",
       "      <td>5</td>\n",
       "      <td>5.0</td>\n",
       "      <td>3.0</td>\n",
       "    </tr>\n",
       "    <tr>\n",
       "      <th>3</th>\n",
       "      <td>Joe</td>\n",
       "      <td>3.0</td>\n",
       "      <td>5.0</td>\n",
       "      <td>4</td>\n",
       "      <td>5.0</td>\n",
       "      <td>NaN</td>\n",
       "    </tr>\n",
       "    <tr>\n",
       "      <th>4</th>\n",
       "      <td>Chris</td>\n",
       "      <td>NaN</td>\n",
       "      <td>4.0</td>\n",
       "      <td>3</td>\n",
       "      <td>NaN</td>\n",
       "      <td>3.0</td>\n",
       "    </tr>\n",
       "  </tbody>\n",
       "</table>\n",
       "</div>"
      ],
      "text/plain": [
       "   Person  La La Land  The Revenant  Hoosiers  Shawshank Redemption  \\\n",
       "0   Erwin         NaN           4.0         2                   4.0   \n",
       "1  Debbie         4.0           NaN         5                   5.0   \n",
       "2    Mike         NaN           4.0         5                   5.0   \n",
       "3     Joe         3.0           5.0         4                   5.0   \n",
       "4   Chris         NaN           4.0         3                   NaN   \n",
       "\n",
       "   Nightcrawler  \n",
       "0           5.0  \n",
       "1           NaN  \n",
       "2           3.0  \n",
       "3           NaN  \n",
       "4           3.0  "
      ]
     },
     "execution_count": 181,
     "metadata": {},
     "output_type": "execute_result"
    }
   ],
   "source": [
    "import pandas as pd\n",
    "import numpy as np\n",
    "\n",
    "#df = pd.read_csv('/Users/Maureen/Desktop/GitHub/IS362/Week7_movies.csv')\n",
    "df = pd.read_csv('https://raw.githubusercontent.com/moshun8/IS362/master/Week7_movies.csv')\n",
    "df.head()"
   ]
  },
  {
   "cell_type": "markdown",
   "metadata": {},
   "source": [
    "### Step 2: show average ratings for each user and movie\n",
    "I made sure to skip NaNs and columns with strings in the calculation and rounded the decimal"
   ]
  },
  {
   "cell_type": "code",
   "execution_count": 178,
   "metadata": {
    "collapsed": false
   },
   "outputs": [
    {
     "name": "stdout",
     "output_type": "stream",
     "text": [
      "Person\n",
      "Erwin     3.75\n",
      "Debbie    4.67\n",
      "Mike      4.25\n",
      "Joe       4.25\n",
      "Chris     3.33\n",
      "dtype: float64 \n",
      " La La Land              3.50\n",
      "The Revenant            4.25\n",
      "Hoosiers                3.80\n",
      "Shawshank Redemption    4.75\n",
      "Nightcrawler            3.67\n",
      "dtype: float64\n"
     ]
    }
   ],
   "source": [
    "df = df.set_index('Person')\n",
    "useravg = df.mean(axis=1).round(decimals=2)\n",
    "\n",
    "movieavg = df.mean().round(decimals=2)\n",
    "print(useravg,'\\n',movieavg)"
   ]
  },
  {
   "cell_type": "markdown",
   "metadata": {},
   "source": [
    "### Step 3: Create a new pandas dataframe, with normalized ratings for each user. "
   ]
  },
  {
   "cell_type": "code",
   "execution_count": 179,
   "metadata": {
    "collapsed": false
   },
   "outputs": [
    {
     "data": {
      "text/html": [
       "<div>\n",
       "<table border=\"1\" class=\"dataframe\">\n",
       "  <thead>\n",
       "    <tr style=\"text-align: right;\">\n",
       "      <th></th>\n",
       "      <th>La La Land</th>\n",
       "      <th>The Revenant</th>\n",
       "      <th>Hoosiers</th>\n",
       "      <th>Shawshank Redemption</th>\n",
       "      <th>Nightcrawler</th>\n",
       "    </tr>\n",
       "    <tr>\n",
       "      <th>Person</th>\n",
       "      <th></th>\n",
       "      <th></th>\n",
       "      <th></th>\n",
       "      <th></th>\n",
       "      <th></th>\n",
       "    </tr>\n",
       "  </thead>\n",
       "  <tbody>\n",
       "    <tr>\n",
       "      <th>Erwin</th>\n",
       "      <td>NaN</td>\n",
       "      <td>-0.5</td>\n",
       "      <td>-1.380537</td>\n",
       "      <td>-1.5</td>\n",
       "      <td>1.154701</td>\n",
       "    </tr>\n",
       "    <tr>\n",
       "      <th>Debbie</th>\n",
       "      <td>0.707107</td>\n",
       "      <td>NaN</td>\n",
       "      <td>0.920358</td>\n",
       "      <td>0.5</td>\n",
       "      <td>NaN</td>\n",
       "    </tr>\n",
       "    <tr>\n",
       "      <th>Mike</th>\n",
       "      <td>NaN</td>\n",
       "      <td>-0.5</td>\n",
       "      <td>0.920358</td>\n",
       "      <td>0.5</td>\n",
       "      <td>-0.577350</td>\n",
       "    </tr>\n",
       "    <tr>\n",
       "      <th>Joe</th>\n",
       "      <td>-0.707107</td>\n",
       "      <td>1.5</td>\n",
       "      <td>0.153393</td>\n",
       "      <td>0.5</td>\n",
       "      <td>NaN</td>\n",
       "    </tr>\n",
       "    <tr>\n",
       "      <th>Chris</th>\n",
       "      <td>NaN</td>\n",
       "      <td>-0.5</td>\n",
       "      <td>-0.613572</td>\n",
       "      <td>NaN</td>\n",
       "      <td>-0.577350</td>\n",
       "    </tr>\n",
       "  </tbody>\n",
       "</table>\n",
       "</div>"
      ],
      "text/plain": [
       "        La La Land  The Revenant  Hoosiers  Shawshank Redemption  Nightcrawler\n",
       "Person                                                                        \n",
       "Erwin          NaN          -0.5 -1.380537                  -1.5      1.154701\n",
       "Debbie    0.707107           NaN  0.920358                   0.5           NaN\n",
       "Mike           NaN          -0.5  0.920358                   0.5     -0.577350\n",
       "Joe      -0.707107           1.5  0.153393                   0.5           NaN\n",
       "Chris          NaN          -0.5 -0.613572                   NaN     -0.577350"
      ]
     },
     "execution_count": 179,
     "metadata": {},
     "output_type": "execute_result"
    }
   ],
   "source": [
    "dfnormal = (df - df.mean()) / (df.std())\n",
    "dfnormal"
   ]
  },
  {
   "cell_type": "markdown",
   "metadata": {},
   "source": [
    "### Again, show the average ratings for each user and each movie."
   ]
  },
  {
   "cell_type": "code",
   "execution_count": 180,
   "metadata": {
    "collapsed": false
   },
   "outputs": [
    {
     "name": "stdout",
     "output_type": "stream",
     "text": [
      "Person\n",
      "Erwin    -0.56\n",
      "Debbie    0.71\n",
      "Mike      0.09\n",
      "Joe       0.36\n",
      "Chris    -0.56\n",
      "dtype: float64 \n",
      " La La Land              0.0\n",
      "The Revenant            0.0\n",
      "Hoosiers                0.0\n",
      "Shawshank Redemption    0.0\n",
      "Nightcrawler            0.0\n",
      "dtype: float64\n"
     ]
    }
   ],
   "source": [
    "useravg_norm = dfnormal.mean(axis=1).round(decimals=2)\n",
    "\n",
    "movieavg_norm = dfnormal.mean().round(decimals=2)\n",
    "print(useravg_norm,'\\n',movieavg_norm)"
   ]
  },
  {
   "cell_type": "markdown",
   "metadata": {
    "collapsed": true
   },
   "source": [
    "### 4. Provide a text-based conclusion: explain what might be advantages and disadvantages of using normalized ratings instead of the actual ratings.\n",
    "\n",
    "## Conclusions:\n"
   ]
  },
  {
   "cell_type": "code",
   "execution_count": null,
   "metadata": {
    "collapsed": true
   },
   "outputs": [],
   "source": []
  }
 ],
 "metadata": {
  "kernelspec": {
   "display_name": "Python 3",
   "language": "python",
   "name": "python3"
  },
  "language_info": {
   "codemirror_mode": {
    "name": "ipython",
    "version": 3
   },
   "file_extension": ".py",
   "mimetype": "text/x-python",
   "name": "python",
   "nbconvert_exporter": "python",
   "pygments_lexer": "ipython3",
   "version": "3.5.2"
  }
 },
 "nbformat": 4,
 "nbformat_minor": 1
}

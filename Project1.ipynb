{
 "cells": [
  {
   "cell_type": "markdown",
   "metadata": {},
   "source": [
    "1. Create a .CSV file (or optionally, a MySQL database!) that includes all of the information below. You may change the structure of the information as you like.\n",
    "\n",
    "2. Read the information from your .CSV file into pandas...\n",
    "\n",
    "###First, import the csv file"
   ]
  },
  {
   "cell_type": "code",
   "execution_count": 129,
   "metadata": {
    "collapsed": false
   },
   "outputs": [
    {
     "data": {
      "text/html": [
       "<div>\n",
       "<table border=\"1\" class=\"dataframe\">\n",
       "  <thead>\n",
       "    <tr style=\"text-align: right;\">\n",
       "      <th></th>\n",
       "      <th>Airline</th>\n",
       "      <th>Status</th>\n",
       "      <th>Los Angeles</th>\n",
       "      <th>Phoenix</th>\n",
       "      <th>San Diego</th>\n",
       "      <th>San Francisco</th>\n",
       "      <th>Seattle</th>\n",
       "    </tr>\n",
       "  </thead>\n",
       "  <tbody>\n",
       "    <tr>\n",
       "      <th>0</th>\n",
       "      <td>Alaska</td>\n",
       "      <td>on time</td>\n",
       "      <td>497</td>\n",
       "      <td>221</td>\n",
       "      <td>212</td>\n",
       "      <td>503</td>\n",
       "      <td>1841</td>\n",
       "    </tr>\n",
       "    <tr>\n",
       "      <th>1</th>\n",
       "      <td>Alaska</td>\n",
       "      <td>delayed</td>\n",
       "      <td>62</td>\n",
       "      <td>12</td>\n",
       "      <td>20</td>\n",
       "      <td>102</td>\n",
       "      <td>305</td>\n",
       "    </tr>\n",
       "    <tr>\n",
       "      <th>2</th>\n",
       "      <td>AM West</td>\n",
       "      <td>on time</td>\n",
       "      <td>694</td>\n",
       "      <td>4840</td>\n",
       "      <td>383</td>\n",
       "      <td>320</td>\n",
       "      <td>201</td>\n",
       "    </tr>\n",
       "    <tr>\n",
       "      <th>3</th>\n",
       "      <td>AM West</td>\n",
       "      <td>delayed</td>\n",
       "      <td>117</td>\n",
       "      <td>415</td>\n",
       "      <td>65</td>\n",
       "      <td>129</td>\n",
       "      <td>61</td>\n",
       "    </tr>\n",
       "  </tbody>\n",
       "</table>\n",
       "</div>"
      ],
      "text/plain": [
       "   Airline   Status  Los Angeles  Phoenix  San Diego  San Francisco  Seattle\n",
       "0   Alaska  on time          497      221        212            503     1841\n",
       "1   Alaska  delayed           62       12         20            102      305\n",
       "2  AM West  on time          694     4840        383            320      201\n",
       "3  AM West  delayed          117      415         65            129       61"
      ]
     },
     "execution_count": 129,
     "metadata": {},
     "output_type": "execute_result"
    }
   ],
   "source": [
    "import numpy as np\n",
    "import pandas as pd\n",
    "\n",
    "data = pd.read_csv(\"Project1.csv\")\n",
    "data.head()"
   ]
  },
  {
   "cell_type": "markdown",
   "metadata": {},
   "source": [
    "... and perform analysis to compare the arrival delays for the two airlines.\n",
    "\n",
    "###First, make it a multi index.\n",
    "Then add a column with the sum of rows"
   ]
  },
  {
   "cell_type": "code",
   "execution_count": 130,
   "metadata": {
    "collapsed": false
   },
   "outputs": [
    {
     "name": "stdout",
     "output_type": "stream",
     "text": [
      "                 Los Angeles  Phoenix  San Diego  San Francisco  Seattle  \\\n",
      "Airline Status                                                             \n",
      "Alaska  on time          497      221        212            503     1841   \n",
      "        delayed           62       12         20            102      305   \n",
      "AM West on time          694     4840        383            320      201   \n",
      "        delayed          117      415         65            129       61   \n",
      "\n",
      "                 Total  \n",
      "Airline Status          \n",
      "Alaska  on time   3274  \n",
      "        delayed    501  \n",
      "AM West on time   6438  \n",
      "        delayed    787  \n"
     ]
    }
   ],
   "source": [
    "x = data.set_index(['Airline', 'Status'])\n",
    "x['Total'] = x.sum(axis=1)\n",
    "\n",
    "print(x)"
   ]
  },
  {
   "cell_type": "markdown",
   "metadata": {},
   "source": [
    "###Delay percentages by city and airline\n",
    "\n",
    "1. Sum the delayed and on time flights by airline, and the new total column\n",
    "2. Get just the delayed numbers\n",
    "3. calculate percentages"
   ]
  },
  {
   "cell_type": "code",
   "execution_count": 203,
   "metadata": {
    "collapsed": false
   },
   "outputs": [
    {
     "name": "stdout",
     "output_type": "stream",
     "text": [
      "Percent of delayed flights by city \n",
      " Alaska\n",
      " Los Angeles      11.09\n",
      "Phoenix           5.15\n",
      "San Diego         8.62\n",
      "San Francisco    16.86\n",
      "Seattle          14.21\n",
      "dtype: float64 \n",
      " ----------- \n",
      " AM West\n",
      " Los Angeles      14.43\n",
      "Phoenix           7.90\n",
      "San Diego        14.51\n",
      "San Francisco    28.73\n",
      "Seattle          23.28\n",
      "dtype: float64 \n",
      " ----------- \n",
      " Percent of all Alaska flights delayed:  13.27 %\n",
      " Percent of all AM West flights delayed:  10.89 %\n"
     ]
    }
   ],
   "source": [
    "ak_tot = x.xs('Alaska').xs('delayed') + x.xs('Alaska').xs('on time')\n",
    "am_tot = x.xs('AM West').xs('delayed') + x.xs('AM West').xs('on time')\n",
    "\n",
    "ak_totdelay = x.xs('Alaska').xs('delayed')\n",
    "ak_delay = (ak_totdelay/ak_tot*100).round(2)\n",
    "\n",
    "am_totdelay = x.xs('AM West').xs('delayed')\n",
    "am_delay = (am_totdelay/am_tot*100).round(2)\n",
    "\n",
    "\n",
    "\n",
    "print('Percent of delayed flights by city \\n Alaska\\n'\n",
    "      ,ak_delay[0:-1], '\\n ----------- \\n AM West\\n'\n",
    "      ,am_delay[0:-1], '\\n ----------- \\n'\n",
    "      ,'Percent of all Alaska flights delayed: ',ak_delay[-1],'%\\n'\n",
    "      ,'Percent of all AM West flights delayed: ',am_delay[-1],'%'\n",
    "     )"
   ]
  },
  {
   "cell_type": "markdown",
   "metadata": {},
   "source": [
    "###Some more descriptions"
   ]
  },
  {
   "cell_type": "code",
   "execution_count": 221,
   "metadata": {
    "collapsed": false
   },
   "outputs": [
    {
     "name": "stdout",
     "output_type": "stream",
     "text": [
      "Alaska Description \n",
      " count       5.0\n",
      "mean      755.0\n",
      "std       797.0\n",
      "min       232.0\n",
      "25%       233.0\n",
      "50%       559.0\n",
      "75%       605.0\n",
      "max      2146.0\n",
      "dtype: float64\n",
      "AM West Decription \n",
      " count       5.0\n",
      "mean     1445.0\n",
      "std      2139.0\n",
      "min       262.0\n",
      "25%       448.0\n",
      "50%       449.0\n",
      "75%       811.0\n",
      "max      5255.0\n",
      "dtype: float64\n",
      "       Los Angeles  Phoenix  San Diego  San Francisco  Seattle\n",
      "count         2.00     2.00       2.00           2.00     2.00\n",
      "mean        279.50   116.50     116.00         302.50  1073.00\n",
      "std         307.59   147.79     135.76         283.55  1086.12\n",
      "min          62.00    12.00      20.00         102.00   305.00\n",
      "25%         170.75    64.25      68.00         202.25   689.00\n",
      "50%         279.50   116.50     116.00         302.50  1073.00\n",
      "75%         388.25   168.75     164.00         402.75  1457.00\n",
      "max         497.00   221.00     212.00         503.00  1841.00\n",
      "       Los Angeles  Phoenix  San Diego  San Francisco  Seattle\n",
      "count         2.00     2.00       2.00           2.00     2.00\n",
      "mean        405.50  2627.50     224.00         224.50   131.00\n",
      "std         408.00  3128.95     224.86         135.06    98.99\n",
      "min         117.00   415.00      65.00         129.00    61.00\n",
      "25%         261.25  1521.25     144.50         176.75    96.00\n",
      "50%         405.50  2627.50     224.00         224.50   131.00\n",
      "75%         549.75  3733.75     303.50         272.25   166.00\n",
      "max         694.00  4840.00     383.00         320.00   201.00\n"
     ]
    }
   ],
   "source": [
    "print('Alaska Description \\n',ak_tot[:-1].describe().round())\n",
    "print('AM West Decription \\n',am_tot[:-1].describe().round())\n",
    "print(x.xs('Alaska')[[0,1,2,3,4]].describe().round(2))\n",
    "print(x.xs('AM West')[[0,1,2,3,4]].describe().round(2))"
   ]
  }
 ],
 "metadata": {
  "kernelspec": {
   "display_name": "Python 3",
   "language": "python",
   "name": "python3"
  },
  "language_info": {
   "codemirror_mode": {
    "name": "ipython",
    "version": 3
   },
   "file_extension": ".py",
   "mimetype": "text/x-python",
   "name": "python",
   "nbconvert_exporter": "python",
   "pygments_lexer": "ipython3",
   "version": "3.5.2"
  }
 },
 "nbformat": 4,
 "nbformat_minor": 1
}

{
 "cells": [
  {
   "cell_type": "markdown",
   "metadata": {},
   "source": [
    "# Apple Music Recommendation System\n",
    "\n",
    "Instructions:\n",
    "\n",
    "Perform a Scenario Design analysis as described below.  Consider whether it makes sense for your selected recommender system to perform scenario design twice, once for the organization (e.g. Amazon.com) and once for the organization's customers.\n",
    "\n",
    "Attempt to reverse engineer what you can about the site, from the site interface and any available information that you can find on the Internet or elsewhere.\n",
    "\n",
    "Include specific recommendations about how to improve the site's recommendation capabilities going forward. \n",
    "\n",
    "Create your report using a Jupyter notebook, and create a discussion thread with a link to the GitHub repo where your Jupyter Notebook resides.  You are not expected to need to write code for this discussion assignment."
   ]
  },
  {
   "cell_type": "markdown",
   "metadata": {},
   "source": [
    "## Scenario Design Analysis\n",
    "\n",
    "1. Who are your target users?\n",
    "    - The target users are anyone with a smartphone or computer that wants to subscribe to a music service.\n",
    "    \n",
    "2. What are their key goals?\n",
    "    - The goal is to get people hooked on the service so they continue to pay for the subscription instead of using free resources available elsewhere. (FYI being a CUNY student means you can get Apple Music for \\$5/month instead of \\$10 and Amazon Prime for \\$50/yr instead of \\$99)\n",
    "    \n",
    "3. How can you help them accomplish those goals?\n",
    "    - The easiest way to get people hooked is to make it easy to discover new music and playlists. This is done in several ways:\n",
    "            - A weekly customized playlist  is generated based on past listening behavior and Likes/Dislikes on individual songs.\n",
    "            - A \"For You\" tab recommends playlists and shows what you have been listening to lately.\n",
    "            - After an album or playlist tracklist on the bottom of the screen there are 2 sections called \"More by <Artist>\" and \"You Might also Like\"\n",
    "\n",
    "The \"For You\" tab:\n",
    "<img src=\"http://routenote.com/blog/wp-content/uploads/2016/09/18127-16299-160902-Discovery-l.jpg\", width=600>\n",
    "\n",
    "It would not make sense for Apple to do 2 analyses because only the customer experience matters. They will know how their recommendation engine works based on how the user reacts to recommendations- do they Like/Dislike? Skips songs? Listen to a whole album after hearing 1 song? Based on the user behavior they can adjust the system."
   ]
  },
  {
   "cell_type": "markdown",
   "metadata": {},
   "source": [
    "## Reverse Engineer the System\n",
    "\n",
    "I admittedly listen to some weird music so the recommendation system probably isn't built for people like me. I end up with a lot of bad recommendations. From what I can tell from a user point of view is that the recommendation system in is based off several things:\n",
    "\n",
    "    1. The profile I setup initially with my preferences\n",
    "    2. my iTunes purchase history\n",
    "    3. Listening habits\n",
    "    4. Likes/Dislikes on individual songs\n",
    "    5. New releases\n",
    "\n",
    "I think the newest releases have a lot of weight because they always show up in the customized playlist every week. I end up clicking \"Dislike\" on a lot of songs. \n",
    "The \"You May Also Like\" underneath albums and playlists is likely based on what other users have liked after listening to that particular music.\n",
    "\n",
    "The profile you initially setup:\n",
    "<img src=\"https://support.apple.com/library/content/dam/edam/applecare/images/en_US/applemusic/ios10-apple-music-for-you-animation.gif\", width=600>"
   ]
  },
  {
   "cell_type": "markdown",
   "metadata": {},
   "source": [
    "## Ideas for Improvement\n",
    "\n",
    "While I appreciate that they need to keep the UI easy to use, Apple could add more options for when you like/dislike a song. Maybe a scale to differentiate between songs that are just annoying and songs that make your ears bleed. It could be simple like:\n",
    "\n",
    "- Love\n",
    "- Like\n",
    "- Dislike\n",
    "- Hate\n",
    "\n",
    "How you like/dislike a song:\n",
    "\n",
    "<img src = 'https://support.apple.com/library/content/dam/edam/applecare/images/en_US/applemusic/ios10-iphone6-apple-music-now-playing-more-menu-love.jpg', width=200, height=400>"
   ]
  },
  {
   "cell_type": "code",
   "execution_count": null,
   "metadata": {
    "collapsed": true
   },
   "outputs": [],
   "source": []
  }
 ],
 "metadata": {
  "kernelspec": {
   "display_name": "Python 3",
   "language": "python",
   "name": "python3"
  },
  "language_info": {
   "codemirror_mode": {
    "name": "ipython",
    "version": 3
   },
   "file_extension": ".py",
   "mimetype": "text/x-python",
   "name": "python",
   "nbconvert_exporter": "python",
   "pygments_lexer": "ipython3",
   "version": "3.5.2"
  }
 },
 "nbformat": 4,
 "nbformat_minor": 2
}
